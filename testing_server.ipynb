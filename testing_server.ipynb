{
 "cells": [
  {
   "cell_type": "code",
   "execution_count": 4,
   "id": "e6b3a53f-9241-4d28-be0d-d356cdb88e00",
   "metadata": {},
   "outputs": [
    {
     "name": "stdout",
     "output_type": "stream",
     "text": [
      "Request successful!\n",
      "{'word-0': {'entity_group': 'B-O', 'word': 'abbreviations is'}, 'word-1': {'entity_group': 'B-AC', 'word': 'gems'}, 'word-2': {'entity_group': 'B-O', 'word': '('}, 'word-3': {'entity_group': 'B-LF', 'word': 'global'}, 'word-4': {'entity_group': 'I-LF', 'word': 'enteric multi center study'}, 'word-5': {'entity_group': 'B-O', 'word': ')'}}\n"
     ]
    }
   ],
   "source": [
    "import requests\n",
    "\n",
    "# Define the JSON data\n",
    "data = {\"text\": \"Abbreviations is GEMS (Global Enteric Multi center Study)\"}\n",
    "\n",
    "# Send the POST request with JSON data\n",
    "response = requests.post('http://127.0.0.1:5000/predict', json=data)\n",
    "\n",
    "# Check the response\n",
    "if response.status_code == 200:\n",
    "    print(\"Request successful!\")\n",
    "    print(response.json())\n",
    "else:\n",
    "    print(f\"Request failed with status code {response.status_code}\")"
   ]
  },
  {
   "cell_type": "code",
   "execution_count": null,
   "id": "1369e854-b293-4c46-ab10-f67ef6373291",
   "metadata": {},
   "outputs": [],
   "source": []
  }
 ],
 "metadata": {
  "kernelspec": {
   "display_name": "Python 3 (ipykernel)",
   "language": "python",
   "name": "python3"
  },
  "language_info": {
   "codemirror_mode": {
    "name": "ipython",
    "version": 3
   },
   "file_extension": ".py",
   "mimetype": "text/x-python",
   "name": "python",
   "nbconvert_exporter": "python",
   "pygments_lexer": "ipython3",
   "version": "3.11.7"
  }
 },
 "nbformat": 4,
 "nbformat_minor": 5
}
